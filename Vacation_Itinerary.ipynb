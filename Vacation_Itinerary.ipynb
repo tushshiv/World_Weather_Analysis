{
 "cells": [
  {
   "cell_type": "markdown",
   "metadata": {},
   "source": [
    "## Deliverable 3. Create a Travel Itinerary Map."
   ]
  },
  {
   "cell_type": "code",
   "execution_count": 1,
   "metadata": {},
   "outputs": [],
   "source": [
    "# Dependencies and Setup\n",
    "import pandas as pd\n",
    "import requests\n",
    "import gmaps\n",
    "import gmaps.datasets\n",
    "import numpy as np\n",
    "\n",
    "# Import API key\n",
    "from config import g_key\n",
    "\n",
    "# Configure gmaps\n",
    "gmaps.configure(api_key=g_key)\n",
    "\n"
   ]
  },
  {
   "cell_type": "code",
   "execution_count": 2,
   "metadata": {},
   "outputs": [
    {
     "data": {
      "text/html": [
       "<div>\n",
       "<style scoped>\n",
       "    .dataframe tbody tr th:only-of-type {\n",
       "        vertical-align: middle;\n",
       "    }\n",
       "\n",
       "    .dataframe tbody tr th {\n",
       "        vertical-align: top;\n",
       "    }\n",
       "\n",
       "    .dataframe thead th {\n",
       "        text-align: right;\n",
       "    }\n",
       "</style>\n",
       "<table border=\"1\" class=\"dataframe\">\n",
       "  <thead>\n",
       "    <tr style=\"text-align: right;\">\n",
       "      <th></th>\n",
       "      <th>City_ID</th>\n",
       "      <th>City</th>\n",
       "      <th>Country</th>\n",
       "      <th>Max Temp</th>\n",
       "      <th>Current Description</th>\n",
       "      <th>Lat</th>\n",
       "      <th>Lng</th>\n",
       "      <th>Hotel Name</th>\n",
       "    </tr>\n",
       "  </thead>\n",
       "  <tbody>\n",
       "    <tr>\n",
       "      <th>0</th>\n",
       "      <td>2</td>\n",
       "      <td>Altamira</td>\n",
       "      <td>BR</td>\n",
       "      <td>81.34</td>\n",
       "      <td>broken clouds</td>\n",
       "      <td>-3.2033</td>\n",
       "      <td>-52.2064</td>\n",
       "      <td>Requinte Hotel</td>\n",
       "    </tr>\n",
       "    <tr>\n",
       "      <th>1</th>\n",
       "      <td>8</td>\n",
       "      <td>Hithadhoo</td>\n",
       "      <td>MV</td>\n",
       "      <td>83.03</td>\n",
       "      <td>few clouds</td>\n",
       "      <td>-0.6000</td>\n",
       "      <td>73.0833</td>\n",
       "      <td>Scoop Guest House</td>\n",
       "    </tr>\n",
       "    <tr>\n",
       "      <th>2</th>\n",
       "      <td>14</td>\n",
       "      <td>Aguada De Pasajeros</td>\n",
       "      <td>CU</td>\n",
       "      <td>75.74</td>\n",
       "      <td>broken clouds</td>\n",
       "      <td>22.3850</td>\n",
       "      <td>-80.8508</td>\n",
       "      <td>CASA MAMÁ</td>\n",
       "    </tr>\n",
       "    <tr>\n",
       "      <th>3</th>\n",
       "      <td>19</td>\n",
       "      <td>Coahuayana</td>\n",
       "      <td>MX</td>\n",
       "      <td>76.62</td>\n",
       "      <td>overcast clouds</td>\n",
       "      <td>18.7333</td>\n",
       "      <td>-103.6833</td>\n",
       "      <td>El rranchito michuacan de ocampos</td>\n",
       "    </tr>\n",
       "    <tr>\n",
       "      <th>4</th>\n",
       "      <td>20</td>\n",
       "      <td>Andrews</td>\n",
       "      <td>US</td>\n",
       "      <td>78.06</td>\n",
       "      <td>clear sky</td>\n",
       "      <td>32.3187</td>\n",
       "      <td>-102.5457</td>\n",
       "      <td>Days Inn by Wyndham Andrews Texas</td>\n",
       "    </tr>\n",
       "  </tbody>\n",
       "</table>\n",
       "</div>"
      ],
      "text/plain": [
       "   City_ID                 City Country  Max Temp Current Description  \\\n",
       "0        2             Altamira      BR     81.34       broken clouds   \n",
       "1        8            Hithadhoo      MV     83.03          few clouds   \n",
       "2       14  Aguada De Pasajeros      CU     75.74       broken clouds   \n",
       "3       19           Coahuayana      MX     76.62     overcast clouds   \n",
       "4       20              Andrews      US     78.06           clear sky   \n",
       "\n",
       "       Lat       Lng                         Hotel Name  \n",
       "0  -3.2033  -52.2064                     Requinte Hotel  \n",
       "1  -0.6000   73.0833                  Scoop Guest House  \n",
       "2  22.3850  -80.8508                          CASA MAMÁ  \n",
       "3  18.7333 -103.6833  El rranchito michuacan de ocampos  \n",
       "4  32.3187 -102.5457  Days Inn by Wyndham Andrews Texas  "
      ]
     },
     "execution_count": 2,
     "metadata": {},
     "output_type": "execute_result"
    }
   ],
   "source": [
    "# 1. Read the WeatherPy_vacation.csv into a DataFrame.\n",
    "vacation_df = pd.read_csv(\"WeatherPy_vacation.csv\")\n",
    "vacation_df.head()\n"
   ]
  },
  {
   "cell_type": "code",
   "execution_count": 3,
   "metadata": {},
   "outputs": [
    {
     "name": "stdout",
     "output_type": "stream",
     "text": [
      "Hotel not found.... skipping\n",
      "Hotel not found.... skipping\n",
      "Hotel not found.... skipping\n",
      "Hotel not found.... skipping\n",
      "Hotel not found.... skipping\n",
      "Hotel not found.... skipping\n",
      "Hotel not found.... skipping\n",
      "Hotel not found.... skipping\n",
      "Hotel not found.... skipping\n",
      "Hotel not found.... skipping\n",
      "Hotel not found.... skipping\n",
      "Hotel not found.... skipping\n",
      "Hotel not found.... skipping\n",
      "Hotel not found.... skipping\n",
      "Hotel not found.... skipping\n",
      "Hotel not found.... skipping\n",
      "Hotel not found.... skipping\n",
      "Hotel not found.... skipping\n",
      "Hotel not found.... skipping\n",
      "Hotel not found.... skipping\n",
      "Hotel not found.... skipping\n",
      "Hotel not found.... skipping\n",
      "Hotel not found.... skipping\n",
      "Hotel not found.... skipping\n",
      "Hotel not found.... skipping\n",
      "Hotel not found.... skipping\n",
      "Hotel not found.... skipping\n",
      "Hotel not found.... skipping\n",
      "Hotel not found.... skipping\n",
      "Hotel not found.... skipping\n",
      "Hotel not found.... skipping\n",
      "Hotel not found.... skipping\n",
      "Hotel not found.... skipping\n",
      "Hotel not found.... skipping\n",
      "Hotel not found.... skipping\n",
      "Hotel not found.... skipping\n",
      "Hotel not found.... skipping\n",
      "Hotel not found.... skipping\n",
      "Hotel not found.... skipping\n"
     ]
    }
   ],
   "source": [
    "params = {\n",
    "    \"radius\": 2000,\n",
    "    \"type\": \"lodging\",\n",
    "    \"key\": g_key\n",
    "}\n",
    "\n",
    "# 6b. Iterate through the hotel DataFrame.\n",
    "for index, row in vacation_df.iterrows():\n",
    "\n",
    "    # 6c. Get latitude and longitude from DataFrame\n",
    "    lat = row[\"Lat\"]\n",
    "    lng = row[\"Lng\"]\n",
    "    params[\"location\"] = f\"{lat}, {lng}\"\n",
    "    \n",
    "    # 6d. Set up the base URL for the Google Directions API to get JSON data.\n",
    "    base_url = \"https://maps.googleapis.com/maps/api/place/nearbysearch/json\"\n",
    "\n",
    "    # 6e. Make request and retrieve the JSON data from the search. \n",
    "    hotels = requests.get(base_url, params=params).json()\n",
    "    \n",
    "    # 6f. Get the first hotel from the results and store the name, if a hotel isn't found skip the city.\n",
    "    try:\n",
    "        vacation_df.loc[index, \"Hotel Name\"] = hotels[\"results\"][0][\"name\"]\n",
    "    except (IndexError):\n",
    "        print(\"Hotel not found.... skipping\")\n",
    "        "
   ]
  },
  {
   "cell_type": "code",
   "execution_count": 7,
   "metadata": {},
   "outputs": [],
   "source": [
    "clean_hotel_df = vacation_df.head(10)"
   ]
  },
  {
   "cell_type": "code",
   "execution_count": 8,
   "metadata": {},
   "outputs": [
    {
     "name": "stdout",
     "output_type": "stream",
     "text": [
      "       Lat       Lng\n",
      "0  -3.2033  -52.2064\n",
      "1  -0.6000   73.0833\n",
      "2  22.3850  -80.8508\n",
      "3  18.7333 -103.6833\n",
      "4  32.3187 -102.5457\n",
      "5  -0.7193    8.7815\n",
      "6   3.0833  -59.9500\n",
      "7  -8.8978  -35.1478\n",
      "8  59.7035   30.7861\n",
      "9  35.1333  140.3000\n"
     ]
    }
   ],
   "source": [
    "# 2. Using the template add the city name, the country code, the weather description and maximum temperature \n",
    "#for the city.\n",
    "info_box_template = \"\"\"\n",
    "<dl>\n",
    "<dt>Hotel Name</dt><dd>{Hotel Name}</dd>\n",
    "<dt>City</dt><dd>{City}</dd>\n",
    "<dt>Country</dt><dd>{Country}</dd>\n",
    "<dt>Max Temp</dt><dd>{Max Temp} °F</dd>\n",
    "</dl>\n",
    "\"\"\"\n",
    "# 3a. Get the data from each row and add it to the formatting template and store the data in a list.\n",
    "hotel_info = [info_box_template.format(**row) for index, row in clean_hotel_df.iterrows()]\n",
    "\n",
    "# 3b. Get the latitude and longitude from each row and store in a new DataFrame.\n",
    "locations = clean_hotel_df[[\"Lat\", \"Lng\"]]\n",
    "print(locations)"
   ]
  },
  {
   "cell_type": "code",
   "execution_count": 9,
   "metadata": {},
   "outputs": [
    {
     "data": {
      "application/vnd.jupyter.widget-view+json": {
       "model_id": "9710be38e6c14251b4b5183a6579e2b0",
       "version_major": 2,
       "version_minor": 0
      },
      "text/plain": [
       "Figure(layout=FigureLayout(height='420px'))"
      ]
     },
     "metadata": {},
     "output_type": "display_data"
    }
   ],
   "source": [
    "# 4a. Add a marker layer for each city to the map.\n",
    "locations = clean_hotel_df[[\"Lat\", \"Lng\"]]\n",
    "max_temp = clean_hotel_df[\"Max Temp\"]\n",
    "fig = gmaps.figure(center=(30.0, 31.0), zoom_level=1.5)\n",
    "heat_layer = gmaps.heatmap_layer(locations, weights=max_temp,dissipating=False,\n",
    "             max_intensity=300, point_radius=4)\n",
    "marker_layer = gmaps.marker_layer(locations, info_box_content=hotel_info)\n",
    "fig.add_layer(heat_layer)\n",
    "fig.add_layer(marker_layer)\n",
    "\n",
    "# 4b. Display the figure\n",
    "fig\n"
   ]
  },
  {
   "cell_type": "code",
   "execution_count": 32,
   "metadata": {},
   "outputs": [],
   "source": [
    "# From the map above pick 4 cities and create a vacation itinerary route to travel between the four cities. \n",
    "# 5. Create DataFrames for each city by filtering the 'vacation_df' using the loc method. \n",
    "# Hint: The starting and ending city should be the same city.\n",
    "\n",
    "vacation_start = vacation_df.loc[vacation_df['Country']=='MX'].head(1)\n",
    "vacation_end = vacation_start\n",
    "vacation_stop1 = vacation_df.loc[(vacation_df['Country']=='MX') & (vacation_df['City'] != vacation_start['City'].values[0])].head(1)\n",
    "vacation_stop2 = vacation_df.loc[(vacation_df['Country']=='MX') & (vacation_df['City'] != vacation_start['City'].values[0])\\\n",
    "                                & (vacation_df['City'] != vacation_stop1['City'].values[0])].head(1) \n",
    "vacation_stop3 = vacation_df.loc[(vacation_df['Country']=='MX') & (vacation_df['City'] != vacation_start['City'].values[0])\\\n",
    "                                & (vacation_df['City'] != vacation_stop1['City'].values[0]) \\\n",
    "                                                 & (vacation_df['City'] != vacation_stop2['City'].values[0])].head(1)\n"
   ]
  },
  {
   "cell_type": "code",
   "execution_count": 37,
   "metadata": {},
   "outputs": [
    {
     "name": "stdout",
     "output_type": "stream",
     "text": [
      "[(18.7333, -103.6833)]\n",
      "[(18.7333, -103.6833)]\n",
      "[(21.5167, -105.2667)]\n",
      "[(15.7432, -96.4661)]\n",
      "[(22.8909, -109.9124)]\n"
     ]
    }
   ],
   "source": [
    "# 6. Get the latitude-longitude pairs as tuples from each city DataFrame using the to_numpy function and list indexing.\n",
    "start = pd.DataFrame(vacation_start, columns=['Lat', 'Lng']).to_records(index=False)\n",
    "end = pd.DataFrame(vacation_end, columns=['Lat', 'Lng']).to_records(index=False)\n",
    "stop1 = pd.DataFrame(vacation_stop1, columns=['Lat', 'Lng']).to_records(index=False)\n",
    "stop2 = pd.DataFrame(vacation_stop2, columns=['Lat', 'Lng']).to_records(index=False)\n",
    "stop3 = pd.DataFrame(vacation_stop3, columns=['Lat', 'Lng']).to_records(index=False)\n",
    "\n",
    "print(start)\n",
    "print(end)\n",
    "print(stop1)\n",
    "print(stop2)\n",
    "print(stop3)"
   ]
  },
  {
   "cell_type": "code",
   "execution_count": 66,
   "metadata": {
    "scrolled": true
   },
   "outputs": [
    {
     "data": {
      "application/vnd.jupyter.widget-view+json": {
       "model_id": "3ed452a216dc46998b82652e20fc5447",
       "version_major": 2,
       "version_minor": 0
      },
      "text/plain": [
       "Figure(layout=FigureLayout(height='420px'))"
      ]
     },
     "metadata": {},
     "output_type": "display_data"
    }
   ],
   "source": [
    "# 7. Create a direction layer map using the start and end latitude-longitude pairs,\n",
    "# and stop1, stop2, and stop3 as the waypoints. The travel_mode should be \"DRIVING\", \"BICYCLING\", or \"WALKING\".\n",
    "fig = gmaps.figure()\n",
    "routemap = gmaps.directions_layer(start[0],end[0], waypoints=[stop1[0],stop2[0],stop3[0]],travel_mode='DRIVING')\n",
    "fig.add_layer(routemap)\n",
    "fig\n"
   ]
  },
  {
   "cell_type": "code",
   "execution_count": 67,
   "metadata": {},
   "outputs": [
    {
     "data": {
      "text/html": [
       "<div>\n",
       "<style scoped>\n",
       "    .dataframe tbody tr th:only-of-type {\n",
       "        vertical-align: middle;\n",
       "    }\n",
       "\n",
       "    .dataframe tbody tr th {\n",
       "        vertical-align: top;\n",
       "    }\n",
       "\n",
       "    .dataframe thead th {\n",
       "        text-align: right;\n",
       "    }\n",
       "</style>\n",
       "<table border=\"1\" class=\"dataframe\">\n",
       "  <thead>\n",
       "    <tr style=\"text-align: right;\">\n",
       "      <th></th>\n",
       "      <th>City_ID</th>\n",
       "      <th>City</th>\n",
       "      <th>Country</th>\n",
       "      <th>Max Temp</th>\n",
       "      <th>Current Description</th>\n",
       "      <th>Lat</th>\n",
       "      <th>Lng</th>\n",
       "      <th>Hotel Name</th>\n",
       "    </tr>\n",
       "  </thead>\n",
       "  <tbody>\n",
       "    <tr>\n",
       "      <th>0</th>\n",
       "      <td>19</td>\n",
       "      <td>Coahuayana</td>\n",
       "      <td>MX</td>\n",
       "      <td>76.62</td>\n",
       "      <td>overcast clouds</td>\n",
       "      <td>18.7333</td>\n",
       "      <td>-103.6833</td>\n",
       "      <td>El rranchito michuacan de ocampos</td>\n",
       "    </tr>\n",
       "    <tr>\n",
       "      <th>1</th>\n",
       "      <td>115</td>\n",
       "      <td>San Blas</td>\n",
       "      <td>MX</td>\n",
       "      <td>78.66</td>\n",
       "      <td>overcast clouds</td>\n",
       "      <td>21.5167</td>\n",
       "      <td>-105.2667</td>\n",
       "      <td>Ruinas Hotel playa Hermosa</td>\n",
       "    </tr>\n",
       "    <tr>\n",
       "      <th>2</th>\n",
       "      <td>242</td>\n",
       "      <td>Pochutla</td>\n",
       "      <td>MX</td>\n",
       "      <td>76.82</td>\n",
       "      <td>overcast clouds</td>\n",
       "      <td>15.7432</td>\n",
       "      <td>-96.4661</td>\n",
       "      <td>Hotel Posada San Jose</td>\n",
       "    </tr>\n",
       "    <tr>\n",
       "      <th>3</th>\n",
       "      <td>275</td>\n",
       "      <td>Cabo San Lucas</td>\n",
       "      <td>MX</td>\n",
       "      <td>83.52</td>\n",
       "      <td>overcast clouds</td>\n",
       "      <td>22.8909</td>\n",
       "      <td>-109.9124</td>\n",
       "      <td>Hotel Tesoro Los Cabos</td>\n",
       "    </tr>\n",
       "    <tr>\n",
       "      <th>4</th>\n",
       "      <td>19</td>\n",
       "      <td>Coahuayana</td>\n",
       "      <td>MX</td>\n",
       "      <td>76.62</td>\n",
       "      <td>overcast clouds</td>\n",
       "      <td>18.7333</td>\n",
       "      <td>-103.6833</td>\n",
       "      <td>El rranchito michuacan de ocampos</td>\n",
       "    </tr>\n",
       "  </tbody>\n",
       "</table>\n",
       "</div>"
      ],
      "text/plain": [
       "   City_ID            City Country  Max Temp Current Description      Lat  \\\n",
       "0       19      Coahuayana      MX     76.62     overcast clouds  18.7333   \n",
       "1      115        San Blas      MX     78.66     overcast clouds  21.5167   \n",
       "2      242        Pochutla      MX     76.82     overcast clouds  15.7432   \n",
       "3      275  Cabo San Lucas      MX     83.52     overcast clouds  22.8909   \n",
       "4       19      Coahuayana      MX     76.62     overcast clouds  18.7333   \n",
       "\n",
       "        Lng                         Hotel Name  \n",
       "0 -103.6833  El rranchito michuacan de ocampos  \n",
       "1 -105.2667         Ruinas Hotel playa Hermosa  \n",
       "2  -96.4661              Hotel Posada San Jose  \n",
       "3 -109.9124             Hotel Tesoro Los Cabos  \n",
       "4 -103.6833  El rranchito michuacan de ocampos  "
      ]
     },
     "execution_count": 67,
     "metadata": {},
     "output_type": "execute_result"
    }
   ],
   "source": [
    "# 8. To create a marker layer map between the four cities.\n",
    "#  Combine the four city DataFrames into one DataFrame using the concat() function.\n",
    "itinerary_df = pd.concat([vacation_start, vacation_stop1, vacation_stop2, vacation_stop3, vacation_end],ignore_index=True)\n",
    "itinerary_df\n"
   ]
  },
  {
   "cell_type": "code",
   "execution_count": 68,
   "metadata": {},
   "outputs": [],
   "source": [
    "# 9 Using the template add city name, the country code, the weather description and maximum temperature for the city. \n",
    "info_box_template = \"\"\"\n",
    "<dl>\n",
    "<dt>City</dt><dd>{City}</dd>\n",
    "<dt>Country</dt><dd>{Country}</dd>\n",
    "<dt>Max Temp</dt><dd>{Max Temp} °F</dd>\n",
    "<dt>Current Description</dt><dd>{Current Description}</dd>\n",
    "</dl>\n",
    "\"\"\"\n",
    "\n",
    "# 10a Get the data from each row and add it to the formatting template and store the data in a list.\n",
    "hotel_info = [info_box_template.format(**row) for index, row in itinerary_df.iterrows()]\n",
    "\n",
    "# 10b. Get the latitude and longitude from each row and store in a new DataFrame.\n",
    "locations = itinerary_df[[\"Lat\", \"Lng\"]]"
   ]
  },
  {
   "cell_type": "code",
   "execution_count": 69,
   "metadata": {},
   "outputs": [
    {
     "data": {
      "application/vnd.jupyter.widget-view+json": {
       "model_id": "d43ff93608d84054885177f5e57d4d20",
       "version_major": 2,
       "version_minor": 0
      },
      "text/plain": [
       "Figure(layout=FigureLayout(height='420px'))"
      ]
     },
     "metadata": {},
     "output_type": "display_data"
    }
   ],
   "source": [
    "# 11a. Add a marker layer for each city to the map.\n",
    "fig = gmaps.figure(center=(20.0,-100.0), zoom_level=4.8)\n",
    "marker_layer = gmaps.marker_layer(locations, info_box_content=hotel_info)\n",
    "fig.add_layer(marker_layer)\n",
    "\n",
    "# Call the figure to plot the data.\n",
    "fig\n",
    "\n",
    "# 11b. Display the figure\n"
   ]
  },
  {
   "cell_type": "code",
   "execution_count": null,
   "metadata": {},
   "outputs": [],
   "source": []
  }
 ],
 "metadata": {
  "kernelspec": {
   "display_name": "PythonData",
   "language": "python",
   "name": "pythondata"
  },
  "language_info": {
   "codemirror_mode": {
    "name": "ipython",
    "version": 3
   },
   "file_extension": ".py",
   "mimetype": "text/x-python",
   "name": "python",
   "nbconvert_exporter": "python",
   "pygments_lexer": "ipython3",
   "version": "3.9.12"
  },
  "latex_envs": {
   "LaTeX_envs_menu_present": true,
   "autoclose": false,
   "autocomplete": true,
   "bibliofile": "biblio.bib",
   "cite_by": "apalike",
   "current_citInitial": 1,
   "eqLabelWithNumbers": true,
   "eqNumInitial": 1,
   "hotkeys": {
    "equation": "Ctrl-E",
    "itemize": "Ctrl-I"
   },
   "labels_anchors": false,
   "latex_user_defs": false,
   "report_style_numbering": false,
   "user_envs_cfg": false
  }
 },
 "nbformat": 4,
 "nbformat_minor": 2
}
